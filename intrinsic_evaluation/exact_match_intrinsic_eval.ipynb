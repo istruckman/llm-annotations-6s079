{
  "nbformat": 4,
  "nbformat_minor": 0,
  "metadata": {
    "colab": {
      "provenance": []
    },
    "kernelspec": {
      "name": "python3",
      "display_name": "Python 3"
    },
    "language_info": {
      "name": "python"
    }
  },
  "cells": [
    {
      "cell_type": "markdown",
      "source": [
        "# Overview\n",
        "\n",
        "We measure the F1, recall, and precision scores of our GPT-generated data labels when matched exactly against human labels."
      ],
      "metadata": {
        "id": "9SU0XaZP7m6F"
      }
    },
    {
      "cell_type": "markdown",
      "source": [
        "# Env Setup"
      ],
      "metadata": {
        "id": "twEwPWKe7pHB"
      }
    },
    {
      "cell_type": "code",
      "source": [
        "!pip install transformers seqeval[gpu]"
      ],
      "metadata": {
        "colab": {
          "base_uri": "https://localhost:8080/"
        },
        "id": "AK4xnrrcUWFg",
        "outputId": "528b4bd6-50ed-440d-abb2-7b9dec7206ee"
      },
      "execution_count": null,
      "outputs": [
        {
          "output_type": "stream",
          "name": "stdout",
          "text": [
            "Requirement already satisfied: transformers in /usr/local/lib/python3.10/dist-packages (4.35.2)\n",
            "Requirement already satisfied: seqeval[gpu] in /usr/local/lib/python3.10/dist-packages (1.2.2)\n",
            "Requirement already satisfied: filelock in /usr/local/lib/python3.10/dist-packages (from transformers) (3.13.1)\n",
            "Requirement already satisfied: huggingface-hub<1.0,>=0.16.4 in /usr/local/lib/python3.10/dist-packages (from transformers) (0.19.4)\n",
            "Requirement already satisfied: numpy>=1.17 in /usr/local/lib/python3.10/dist-packages (from transformers) (1.23.5)\n",
            "Requirement already satisfied: packaging>=20.0 in /usr/local/lib/python3.10/dist-packages (from transformers) (23.2)\n",
            "Requirement already satisfied: pyyaml>=5.1 in /usr/local/lib/python3.10/dist-packages (from transformers) (6.0.1)\n",
            "Requirement already satisfied: regex!=2019.12.17 in /usr/local/lib/python3.10/dist-packages (from transformers) (2023.6.3)\n",
            "Requirement already satisfied: requests in /usr/local/lib/python3.10/dist-packages (from transformers) (2.31.0)\n",
            "Requirement already satisfied: tokenizers<0.19,>=0.14 in /usr/local/lib/python3.10/dist-packages (from transformers) (0.15.0)\n",
            "Requirement already satisfied: safetensors>=0.3.1 in /usr/local/lib/python3.10/dist-packages (from transformers) (0.4.1)\n",
            "Requirement already satisfied: tqdm>=4.27 in /usr/local/lib/python3.10/dist-packages (from transformers) (4.66.1)\n",
            "Requirement already satisfied: scikit-learn>=0.21.3 in /usr/local/lib/python3.10/dist-packages (from seqeval[gpu]) (1.2.2)\n",
            "Requirement already satisfied: fsspec>=2023.5.0 in /usr/local/lib/python3.10/dist-packages (from huggingface-hub<1.0,>=0.16.4->transformers) (2023.6.0)\n",
            "Requirement already satisfied: typing-extensions>=3.7.4.3 in /usr/local/lib/python3.10/dist-packages (from huggingface-hub<1.0,>=0.16.4->transformers) (4.5.0)\n",
            "Requirement already satisfied: scipy>=1.3.2 in /usr/local/lib/python3.10/dist-packages (from scikit-learn>=0.21.3->seqeval[gpu]) (1.11.4)\n",
            "Requirement already satisfied: joblib>=1.1.1 in /usr/local/lib/python3.10/dist-packages (from scikit-learn>=0.21.3->seqeval[gpu]) (1.3.2)\n",
            "Requirement already satisfied: threadpoolctl>=2.0.0 in /usr/local/lib/python3.10/dist-packages (from scikit-learn>=0.21.3->seqeval[gpu]) (3.2.0)\n",
            "Requirement already satisfied: charset-normalizer<4,>=2 in /usr/local/lib/python3.10/dist-packages (from requests->transformers) (3.3.2)\n",
            "Requirement already satisfied: idna<4,>=2.5 in /usr/local/lib/python3.10/dist-packages (from requests->transformers) (3.6)\n",
            "Requirement already satisfied: urllib3<3,>=1.21.1 in /usr/local/lib/python3.10/dist-packages (from requests->transformers) (2.0.7)\n",
            "Requirement already satisfied: certifi>=2017.4.17 in /usr/local/lib/python3.10/dist-packages (from requests->transformers) (2023.11.17)\n"
          ]
        }
      ]
    },
    {
      "cell_type": "code",
      "execution_count": null,
      "metadata": {
        "id": "IiYgS10HTa3A"
      },
      "outputs": [],
      "source": [
        "import csv\n",
        "import json\n",
        "import pandas as pd\n",
        "import numpy as np\n",
        "import re\n",
        "import string\n",
        "from collections import Counter\n",
        "import os\n",
        "from google.colab import drive\n",
        "import time\n",
        "import ast\n",
        "import random\n",
        "from collections import defaultdict\n",
        "from seqeval.metrics import accuracy_score\n",
        "from seqeval.metrics import classification_report\n",
        "from seqeval.metrics import f1_score"
      ]
    },
    {
      "cell_type": "code",
      "source": [
        "drive.mount('/content/drive')\n"
      ],
      "metadata": {
        "colab": {
          "base_uri": "https://localhost:8080/"
        },
        "id": "OB58Z-MPTeNq",
        "outputId": "e03c7d0a-0e79-4ca2-d5ea-86d1c56d5b04"
      },
      "execution_count": null,
      "outputs": [
        {
          "output_type": "stream",
          "name": "stdout",
          "text": [
            "Drive already mounted at /content/drive; to attempt to forcibly remount, call drive.mount(\"/content/drive\", force_remount=True).\n"
          ]
        }
      ]
    },
    {
      "cell_type": "code",
      "source": [
        "cd drive/MyDrive/'6.8611 Research Project'/'Colab Notebooks'"
      ],
      "metadata": {
        "colab": {
          "base_uri": "https://localhost:8080/"
        },
        "id": "hSIRhCwqTfjT",
        "outputId": "4edd0bae-2e9d-438a-8627-bc408f35e3de"
      },
      "execution_count": null,
      "outputs": [
        {
          "output_type": "stream",
          "name": "stdout",
          "text": [
            "[Errno 2] No such file or directory: 'drive/MyDrive/6.8611 Research Project/Colab Notebooks'\n",
            "/content/drive/.shortcut-targets-by-id/1vdEcgdXIfpnlORVlPsJtHUmKXSAqr69R/6.8611 Research Project/Colab Notebooks\n"
          ]
        }
      ]
    },
    {
      "cell_type": "code",
      "source": [
        "ls"
      ],
      "metadata": {
        "colab": {
          "base_uri": "https://localhost:8080/"
        },
        "id": "eV_8f6AvTicV",
        "outputId": "b1c84624-094d-4d82-96c8-6851e7f29317"
      },
      "execution_count": null,
      "outputs": [
        {
          "output_type": "stream",
          "name": "stdout",
          "text": [
            " BC5CDR-D_devel_1.csv                Intrinsic_token.ipynb\n",
            " BC5CDR-D_devel_2.csv                \u001b[0m\u001b[01;34mllm-annotations\u001b[0m/\n",
            " Data-cleaning.ipynb                ' NER with BERT.ipynb'\n",
            " \u001b[01;34mdevel_gpt_generated_datasets\u001b[0m/       openai-test.ipynb\n",
            " Fine-Tuning-Few-Shot.ipynb          retry_prompts.gsheet\n",
            " Fine-Tuning-Human-Annotated.ipynb   RW-Fine-Tuning-Human-Annotated.ipynb\n",
            " Fine-Tuning-One-Shot.ipynb          \u001b[01;34msft_training_data\u001b[0m/\n",
            " Fine-Tuning-Zero-Shot.ipynb         TEST_LABEL_BUGS.ipynb\n",
            " GPT-Finetuning.ipynb                tokens_labels.csv\n",
            " \u001b[01;34mintrinsic_data\u001b[0m/                     Untitled\n",
            " intrinsic_eval_entity.ipynb         zero-shot-bc5cdr-chem.pynb\n",
            " intrinsic_eval.ipynb               'zero_shot[FASTER].ipynb'\n",
            "'Intrinsic Eval Precision.ipynb'     zero-shot.pynb\n",
            " Intrinsic_one.ipynb\n"
          ]
        }
      ]
    },
    {
      "cell_type": "markdown",
      "source": [
        "# Data Loading"
      ],
      "metadata": {
        "id": "h10JMKKG7rDO"
      }
    },
    {
      "cell_type": "code",
      "source": [
        "# SET PARAMS\n",
        "\n",
        "dataset = 'JNLPBA'\n",
        "prompt_type = 'O'"
      ],
      "metadata": {
        "id": "TIBlEPX-TkpM"
      },
      "execution_count": null,
      "outputs": []
    },
    {
      "cell_type": "code",
      "source": [
        "file_path = f'intrinsic_data/{dataset}-{prompt_type}S.csv'"
      ],
      "metadata": {
        "id": "QPpx3TbFpo6q"
      },
      "execution_count": null,
      "outputs": []
    },
    {
      "cell_type": "code",
      "source": [
        "data = pd.read_csv(file_path)"
      ],
      "metadata": {
        "id": "DjsgbH18prUf"
      },
      "execution_count": null,
      "outputs": []
    },
    {
      "cell_type": "markdown",
      "source": [
        "# Exact Match Intrinsic Evaluation"
      ],
      "metadata": {
        "id": "fNEXaej57tQO"
      }
    },
    {
      "cell_type": "code",
      "source": [
        "def relabel(df):\n",
        "  for i, row in df.iterrows():\n",
        "    if row['label'] not in {'B', 'I', 'O'}:\n",
        "      print('yo')\n",
        "      if row['label'][0] in {'B', 'I', 'O'}:\n",
        "        df.loc[i, 'label'] = row['label'][0]\n",
        "      else:\n",
        "        df.loc[i, 'label'] = 'O'\n",
        "    if row['label_gpt'] not in {'B', 'I', 'O'}:\n",
        "      if isinstance(row['label_gpt'], str) and row['label_gpt'][0] in {'B', 'I', 'O'}:\n",
        "        df.loc[i, 'label_gpt'] = row['label_gpt'][0]\n",
        "      else:\n",
        "        df.loc[i, 'label_gpt'] = 'O'\n",
        "  return df\n"
      ],
      "metadata": {
        "id": "4CqS98sOn6dF"
      },
      "execution_count": null,
      "outputs": []
    },
    {
      "cell_type": "code",
      "source": [
        "types = {'Z': 'Zero Shot', 'O': 'One Shot', 'F': 'Few Shot'}\n",
        "\n",
        "def get_report(dataset, prompt_type):\n",
        "  file_path = f'intrinsic_data/{dataset}-{prompt_type}S.csv'\n",
        "  data = pd.read_csv(file_path)\n",
        "  data = relabel(data)\n",
        "  labels = [data['label'].to_list()]\n",
        "  predictions = [data['label_gpt'].to_list()]\n",
        "  print('-----------------------------------------')\n",
        "  print(dataset +' '+ types[prompt_type]+ ': ')\n",
        "  print()\n",
        "  print(classification_report(labels, predictions))\n",
        "  print('-----------------------------------------')\n",
        "  print()"
      ],
      "metadata": {
        "id": "paqR5nirma18"
      },
      "execution_count": null,
      "outputs": []
    },
    {
      "cell_type": "code",
      "source": [
        "datasets = ['NCBI', 'BC2GM', 'JNLPBA', 'BC5CDR-disease', 'BC5CDR-chem']\n",
        "prompt_types = ['Z', 'O', 'F']\n",
        "for dataset in datasets:\n",
        "  for prompt_type in prompt_types:\n",
        "    get_report(dataset, prompt_type)"
      ],
      "metadata": {
        "colab": {
          "base_uri": "https://localhost:8080/"
        },
        "id": "HXyaFNo-Tkr7",
        "outputId": "d11c5fda-7b43-4a3e-a887-f47af1e7f58d"
      },
      "execution_count": null,
      "outputs": [
        {
          "output_type": "stream",
          "name": "stdout",
          "text": [
            "-----------------------------------------\n",
            "NCBI Zero Shot: \n",
            "\n",
            "              precision    recall  f1-score   support\n",
            "\n",
            "           _       0.22      0.46      0.30       787\n",
            "\n",
            "   micro avg       0.22      0.46      0.30       787\n",
            "   macro avg       0.22      0.46      0.30       787\n",
            "weighted avg       0.22      0.46      0.30       787\n",
            "\n",
            "-----------------------------------------\n",
            "\n",
            "-----------------------------------------\n",
            "NCBI One Shot: \n",
            "\n",
            "              precision    recall  f1-score   support\n",
            "\n",
            "           _       0.25      0.59      0.35       787\n",
            "\n",
            "   micro avg       0.25      0.59      0.35       787\n",
            "   macro avg       0.25      0.59      0.35       787\n",
            "weighted avg       0.25      0.59      0.35       787\n",
            "\n",
            "-----------------------------------------\n",
            "\n",
            "-----------------------------------------\n",
            "NCBI Few Shot: \n",
            "\n",
            "              precision    recall  f1-score   support\n",
            "\n",
            "           _       0.27      0.42      0.33       787\n",
            "\n",
            "   micro avg       0.27      0.42      0.33       787\n",
            "   macro avg       0.27      0.42      0.33       787\n",
            "weighted avg       0.27      0.42      0.33       787\n",
            "\n",
            "-----------------------------------------\n",
            "\n",
            "-----------------------------------------\n",
            "BC2GM Zero Shot: \n",
            "\n",
            "              precision    recall  f1-score   support\n",
            "\n",
            "           _       0.38      0.48      0.42      3034\n",
            "\n",
            "   micro avg       0.38      0.48      0.42      3034\n",
            "   macro avg       0.38      0.48      0.42      3034\n",
            "weighted avg       0.38      0.48      0.42      3034\n",
            "\n",
            "-----------------------------------------\n",
            "\n",
            "-----------------------------------------\n",
            "BC2GM One Shot: \n",
            "\n",
            "              precision    recall  f1-score   support\n",
            "\n",
            "           _       0.39      0.47      0.42      3059\n",
            "\n",
            "   micro avg       0.39      0.47      0.42      3059\n",
            "   macro avg       0.39      0.47      0.42      3059\n",
            "weighted avg       0.39      0.47      0.42      3059\n",
            "\n",
            "-----------------------------------------\n",
            "\n",
            "-----------------------------------------\n",
            "BC2GM Few Shot: \n",
            "\n",
            "              precision    recall  f1-score   support\n",
            "\n",
            "           _       0.44      0.47      0.45      3052\n",
            "\n",
            "   micro avg       0.44      0.47      0.45      3052\n",
            "   macro avg       0.44      0.47      0.45      3052\n",
            "weighted avg       0.44      0.47      0.45      3052\n",
            "\n",
            "-----------------------------------------\n",
            "\n",
            "-----------------------------------------\n",
            "JNLPBA Zero Shot: \n",
            "\n",
            "              precision    recall  f1-score   support\n",
            "\n",
            "           _       0.34      0.48      0.40      8565\n",
            "\n",
            "   micro avg       0.34      0.48      0.40      8565\n",
            "   macro avg       0.34      0.48      0.40      8565\n",
            "weighted avg       0.34      0.48      0.40      8565\n",
            "\n",
            "-----------------------------------------\n",
            "\n",
            "-----------------------------------------\n",
            "JNLPBA One Shot: \n",
            "\n",
            "              precision    recall  f1-score   support\n",
            "\n",
            "           _       0.40      0.50      0.44      8549\n",
            "\n",
            "   micro avg       0.40      0.50      0.44      8549\n",
            "   macro avg       0.40      0.50      0.44      8549\n",
            "weighted avg       0.40      0.50      0.44      8549\n",
            "\n",
            "-----------------------------------------\n",
            "\n",
            "-----------------------------------------\n",
            "JNLPBA Few Shot: \n",
            "\n",
            "              precision    recall  f1-score   support\n",
            "\n",
            "           _       0.45      0.38      0.41      8553\n",
            "\n",
            "   micro avg       0.45      0.38      0.41      8553\n",
            "   macro avg       0.45      0.38      0.41      8553\n",
            "weighted avg       0.45      0.38      0.41      8553\n",
            "\n",
            "-----------------------------------------\n",
            "\n",
            "-----------------------------------------\n",
            "BC5CDR-disease Zero Shot: \n",
            "\n",
            "              precision    recall  f1-score   support\n",
            "\n",
            "           _       0.29      0.53      0.38      4238\n",
            "\n",
            "   micro avg       0.29      0.53      0.38      4238\n",
            "   macro avg       0.29      0.53      0.38      4238\n",
            "weighted avg       0.29      0.53      0.38      4238\n",
            "\n",
            "-----------------------------------------\n",
            "\n",
            "-----------------------------------------\n",
            "BC5CDR-disease One Shot: \n",
            "\n",
            "              precision    recall  f1-score   support\n",
            "\n",
            "           _       0.32      0.51      0.39      4238\n",
            "\n",
            "   micro avg       0.32      0.51      0.39      4238\n",
            "   macro avg       0.32      0.51      0.39      4238\n",
            "weighted avg       0.32      0.51      0.39      4238\n",
            "\n",
            "-----------------------------------------\n",
            "\n",
            "-----------------------------------------\n",
            "BC5CDR-disease Few Shot: \n",
            "\n",
            "              precision    recall  f1-score   support\n",
            "\n",
            "           _       0.17      0.18      0.18      5328\n",
            "\n",
            "   micro avg       0.17      0.18      0.18      5328\n",
            "   macro avg       0.17      0.18      0.18      5328\n",
            "weighted avg       0.17      0.18      0.18      5328\n",
            "\n",
            "-----------------------------------------\n",
            "\n",
            "-----------------------------------------\n",
            "BC5CDR-chem Zero Shot: \n",
            "\n",
            "              precision    recall  f1-score   support\n",
            "\n",
            "           _       0.52      0.73      0.60      5292\n",
            "\n",
            "   micro avg       0.52      0.73      0.60      5292\n",
            "   macro avg       0.52      0.73      0.60      5292\n",
            "weighted avg       0.52      0.73      0.60      5292\n",
            "\n",
            "-----------------------------------------\n",
            "\n",
            "-----------------------------------------\n",
            "BC5CDR-chem One Shot: \n",
            "\n",
            "              precision    recall  f1-score   support\n",
            "\n",
            "           _       0.50      0.81      0.62      5330\n",
            "\n",
            "   micro avg       0.50      0.81      0.62      5330\n",
            "   macro avg       0.50      0.81      0.62      5330\n",
            "weighted avg       0.50      0.81      0.62      5330\n",
            "\n",
            "-----------------------------------------\n",
            "\n",
            "-----------------------------------------\n",
            "BC5CDR-chem Few Shot: \n",
            "\n",
            "              precision    recall  f1-score   support\n",
            "\n",
            "           _       0.47      0.64      0.54      5334\n",
            "\n",
            "   micro avg       0.47      0.64      0.54      5334\n",
            "   macro avg       0.47      0.64      0.54      5334\n",
            "weighted avg       0.47      0.64      0.54      5334\n",
            "\n",
            "-----------------------------------------\n",
            "\n"
          ]
        }
      ]
    }
  ]
}