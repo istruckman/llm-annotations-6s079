{
  "nbformat": 4,
  "nbformat_minor": 0,
  "metadata": {
    "colab": {
      "provenance": []
    },
    "kernelspec": {
      "name": "python3",
      "display_name": "Python 3"
    },
    "language_info": {
      "name": "python"
    }
  },
  "cells": [
    {
      "cell_type": "markdown",
      "source": [
        "# Overview\n",
        "We measured GPT-3.5's F1, precision, and recall on approximate entity matches. We developed the following definition of 'approximate match': any GPT-labeled entity that shares a token with a human-labeled entity is an approximate match. Intuitively, if the human labeled dataset identified 'Ebola virus disease' as an entity and GPT-3.5 only identified 'Ebola' as the entity, then that would be an approximate entity match."
      ],
      "metadata": {
        "id": "BTOKrT1l69bj"
      }
    },
    {
      "cell_type": "markdown",
      "source": [
        "# Env Setup"
      ],
      "metadata": {
        "id": "qu0gE21g6qTf"
      }
    },
    {
      "cell_type": "code",
      "source": [
        "!pip install transformers seqeval[gpu]"
      ],
      "metadata": {
        "colab": {
          "base_uri": "https://localhost:8080/"
        },
        "id": "AK4xnrrcUWFg",
        "outputId": "6bf4ce69-205a-41e9-ec1f-15b2cc655eb4"
      },
      "execution_count": null,
      "outputs": [
        {
          "output_type": "stream",
          "name": "stdout",
          "text": [
            "Requirement already satisfied: transformers in /usr/local/lib/python3.10/dist-packages (4.35.2)\n",
            "Collecting seqeval[gpu]\n",
            "  Downloading seqeval-1.2.2.tar.gz (43 kB)\n",
            "\u001b[2K     \u001b[90m━━━━━━━━━━━━━━━━━━━━━━━━━━━━━━━━━━━━━━━━\u001b[0m \u001b[32m43.6/43.6 kB\u001b[0m \u001b[31m1.0 MB/s\u001b[0m eta \u001b[36m0:00:00\u001b[0m\n",
            "\u001b[?25h  Preparing metadata (setup.py) ... \u001b[?25l\u001b[?25hdone\n",
            "Requirement already satisfied: filelock in /usr/local/lib/python3.10/dist-packages (from transformers) (3.13.1)\n",
            "Requirement already satisfied: huggingface-hub<1.0,>=0.16.4 in /usr/local/lib/python3.10/dist-packages (from transformers) (0.19.4)\n",
            "Requirement already satisfied: numpy>=1.17 in /usr/local/lib/python3.10/dist-packages (from transformers) (1.23.5)\n",
            "Requirement already satisfied: packaging>=20.0 in /usr/local/lib/python3.10/dist-packages (from transformers) (23.2)\n",
            "Requirement already satisfied: pyyaml>=5.1 in /usr/local/lib/python3.10/dist-packages (from transformers) (6.0.1)\n",
            "Requirement already satisfied: regex!=2019.12.17 in /usr/local/lib/python3.10/dist-packages (from transformers) (2023.6.3)\n",
            "Requirement already satisfied: requests in /usr/local/lib/python3.10/dist-packages (from transformers) (2.31.0)\n",
            "Requirement already satisfied: tokenizers<0.19,>=0.14 in /usr/local/lib/python3.10/dist-packages (from transformers) (0.15.0)\n",
            "Requirement already satisfied: safetensors>=0.3.1 in /usr/local/lib/python3.10/dist-packages (from transformers) (0.4.1)\n",
            "Requirement already satisfied: tqdm>=4.27 in /usr/local/lib/python3.10/dist-packages (from transformers) (4.66.1)\n",
            "Requirement already satisfied: scikit-learn>=0.21.3 in /usr/local/lib/python3.10/dist-packages (from seqeval[gpu]) (1.2.2)\n",
            "Requirement already satisfied: fsspec>=2023.5.0 in /usr/local/lib/python3.10/dist-packages (from huggingface-hub<1.0,>=0.16.4->transformers) (2023.6.0)\n",
            "Requirement already satisfied: typing-extensions>=3.7.4.3 in /usr/local/lib/python3.10/dist-packages (from huggingface-hub<1.0,>=0.16.4->transformers) (4.5.0)\n",
            "Requirement already satisfied: scipy>=1.3.2 in /usr/local/lib/python3.10/dist-packages (from scikit-learn>=0.21.3->seqeval[gpu]) (1.11.4)\n",
            "Requirement already satisfied: joblib>=1.1.1 in /usr/local/lib/python3.10/dist-packages (from scikit-learn>=0.21.3->seqeval[gpu]) (1.3.2)\n",
            "Requirement already satisfied: threadpoolctl>=2.0.0 in /usr/local/lib/python3.10/dist-packages (from scikit-learn>=0.21.3->seqeval[gpu]) (3.2.0)\n",
            "Requirement already satisfied: charset-normalizer<4,>=2 in /usr/local/lib/python3.10/dist-packages (from requests->transformers) (3.3.2)\n",
            "Requirement already satisfied: idna<4,>=2.5 in /usr/local/lib/python3.10/dist-packages (from requests->transformers) (3.6)\n",
            "Requirement already satisfied: urllib3<3,>=1.21.1 in /usr/local/lib/python3.10/dist-packages (from requests->transformers) (2.0.7)\n",
            "Requirement already satisfied: certifi>=2017.4.17 in /usr/local/lib/python3.10/dist-packages (from requests->transformers) (2023.11.17)\n",
            "Building wheels for collected packages: seqeval\n",
            "  Building wheel for seqeval (setup.py) ... \u001b[?25l\u001b[?25hdone\n",
            "  Created wheel for seqeval: filename=seqeval-1.2.2-py3-none-any.whl size=16162 sha256=25211bab75f6c04aa34ab8578f9d35f3d9276dbeb0e4ccb040181b2273e9e727\n",
            "  Stored in directory: /root/.cache/pip/wheels/1a/67/4a/ad4082dd7dfc30f2abfe4d80a2ed5926a506eb8a972b4767fa\n",
            "Successfully built seqeval\n",
            "Installing collected packages: seqeval\n",
            "Successfully installed seqeval-1.2.2\n"
          ]
        }
      ]
    },
    {
      "cell_type": "code",
      "execution_count": null,
      "metadata": {
        "id": "IiYgS10HTa3A"
      },
      "outputs": [],
      "source": [
        "import csv\n",
        "import json\n",
        "import pandas as pd\n",
        "import numpy as np\n",
        "import re\n",
        "import string\n",
        "from collections import Counter\n",
        "import os\n",
        "from google.colab import drive\n",
        "import time\n",
        "import ast\n",
        "import random\n",
        "from collections import defaultdict\n",
        "from seqeval.metrics import accuracy_score\n",
        "from seqeval.metrics import classification_report\n",
        "from seqeval.metrics import f1_score"
      ]
    },
    {
      "cell_type": "code",
      "source": [
        "drive.mount('/content/drive')\n"
      ],
      "metadata": {
        "colab": {
          "base_uri": "https://localhost:8080/"
        },
        "id": "OB58Z-MPTeNq",
        "outputId": "06e9c68b-b864-4831-b594-5699ad5a3c7a"
      },
      "execution_count": null,
      "outputs": [
        {
          "output_type": "stream",
          "name": "stdout",
          "text": [
            "Mounted at /content/drive\n"
          ]
        }
      ]
    },
    {
      "cell_type": "code",
      "source": [
        "cd drive/MyDrive/'6.8611 Research Project'/'Colab Notebooks'"
      ],
      "metadata": {
        "colab": {
          "base_uri": "https://localhost:8080/"
        },
        "id": "hSIRhCwqTfjT",
        "outputId": "fd5ed260-971a-4dea-ad52-f43529cf7ce8"
      },
      "execution_count": null,
      "outputs": [
        {
          "output_type": "stream",
          "name": "stdout",
          "text": [
            "/content/drive/.shortcut-targets-by-id/1vdEcgdXIfpnlORVlPsJtHUmKXSAqr69R/6.8611 Research Project/Colab Notebooks\n"
          ]
        }
      ]
    },
    {
      "cell_type": "code",
      "source": [
        "ls"
      ],
      "metadata": {
        "colab": {
          "base_uri": "https://localhost:8080/"
        },
        "id": "eV_8f6AvTicV",
        "outputId": "6cb2b5fe-0aef-4c09-ae62-447bc0f09468"
      },
      "execution_count": null,
      "outputs": [
        {
          "output_type": "stream",
          "name": "stdout",
          "text": [
            " BC5CDR-D_devel_1.csv                Intrinsic_exact_match.ipynb\n",
            " BC5CDR-D_devel_2.csv                Intrinsic_one.ipynb\n",
            " Data-cleaning.ipynb                 \u001b[0m\u001b[01;34mllm-annotations\u001b[0m/\n",
            " \u001b[01;34mdevel_gpt_generated_datasets\u001b[0m/      ' NER with BERT.ipynb'\n",
            " Fine-Tuning-Few-Shot.ipynb          openai-test.ipynb\n",
            " Fine-Tuning-Human-Annotated.ipynb   retry_prompts.gsheet\n",
            " Fine-Tuning-One-Shot.ipynb          RW-Fine-Tuning-Human-Annotated.ipynb\n",
            " Fine-Tuning-Zero-Shot.ipynb         \u001b[01;34msft_training_data\u001b[0m/\n",
            " GPT-Finetuning.ipynb                TEST_LABEL_BUGS.ipynb\n",
            " Intrinsic_approx_match.ipynb        tokens_labels.csv\n",
            " \u001b[01;34mintrinsic_data\u001b[0m/                     Untitled\n",
            " intrinsic_eval_entity.ipynb         zero-shot-bc5cdr-chem.pynb\n",
            " intrinsic_eval.ipynb               'zero_shot[FASTER].ipynb'\n",
            "'Intrinsic Eval Precision.ipynb'     zero-shot.pynb\n"
          ]
        }
      ]
    },
    {
      "cell_type": "markdown",
      "source": [
        "# Data Loading and Preprocessing"
      ],
      "metadata": {
        "id": "tFrYYPa36t5l"
      }
    },
    {
      "cell_type": "code",
      "source": [
        "# SET PARAMS\n",
        "\n",
        "dataset = 'NCBI'\n",
        "prompt_type = 'Z'"
      ],
      "metadata": {
        "id": "TIBlEPX-TkpM"
      },
      "execution_count": null,
      "outputs": []
    },
    {
      "cell_type": "code",
      "source": [
        "file_path = f'intrinsic_data/{dataset}-{prompt_type}S.csv'"
      ],
      "metadata": {
        "id": "QPpx3TbFpo6q"
      },
      "execution_count": null,
      "outputs": []
    },
    {
      "cell_type": "code",
      "source": [
        "data = pd.read_csv(file_path)"
      ],
      "metadata": {
        "id": "DjsgbH18prUf"
      },
      "execution_count": null,
      "outputs": []
    },
    {
      "cell_type": "markdown",
      "source": [
        "# Intrinsic Labels Approximate Match Evaluation"
      ],
      "metadata": {
        "id": "kHU2lZLQ61Ec"
      }
    },
    {
      "cell_type": "code",
      "source": [
        "def relabel(df):\n",
        "  for i, row in df.iterrows():\n",
        "    if row['label'] not in {'B', 'I', 'O'}:\n",
        "      print('yo')\n",
        "      if row['label'][0] in {'B', 'I', 'O'}:\n",
        "        df.loc[i, 'label'] = row['label'][0]\n",
        "      else:\n",
        "        df.loc[i, 'label'] = 'O'\n",
        "    if row['label_gpt'] not in {'B', 'I', 'O'}:\n",
        "      if isinstance(row['label_gpt'], str) and row['label_gpt'][0] in {'B', 'I', 'O'}:\n",
        "        df.loc[i, 'label_gpt'] = row['label_gpt'][0]\n",
        "      else:\n",
        "        df.loc[i, 'label_gpt'] = 'O'\n",
        "  return df\n"
      ],
      "metadata": {
        "id": "4CqS98sOn6dF"
      },
      "execution_count": null,
      "outputs": []
    },
    {
      "cell_type": "code",
      "source": [
        "def partial_fix(df):\n",
        "  #get all index ranges of entities\n",
        "  entities = []\n",
        "  start_idx = None\n",
        "  for idx, label in enumerate(df['label']):\n",
        "      if label == 'B':\n",
        "          if start_idx is not None:\n",
        "              entities.append((start_idx, idx - 1))\n",
        "          start_idx = idx\n",
        "      elif label != 'I' and start_idx is not None:\n",
        "          entities.append((start_idx, idx - 1))\n",
        "          start_idx = None\n",
        "  if start_idx is not None:\n",
        "      entities.append((start_idx, len(df['label']) - 1))\n",
        "\n",
        "  for start, end in entities:\n",
        "    if 'B' in df.iloc[start:end+1]['label_gpt'].to_list() or 'I' in df.iloc[start:end+1]['label_gpt'].to_list():\n",
        "      #approximate match\n",
        "      df.loc[start:end+1, 'label_gpt'] = df.loc[start:end+1, 'label']\n",
        "  return df"
      ],
      "metadata": {
        "id": "1XGUyJue1ry3"
      },
      "execution_count": null,
      "outputs": []
    },
    {
      "cell_type": "code",
      "source": [
        "types = {'Z': 'Zero Shot', 'O': 'One Shot', 'F': 'Few Shot'}\n",
        "\n",
        "def get_partial_report(dataset, prompt_type):\n",
        "  file_path = f'intrinsic_data/{dataset}-{prompt_type}S.csv'\n",
        "  data = pd.read_csv(file_path)\n",
        "  data = relabel(data)\n",
        "  data = partial_fix(data)\n",
        "  labels = [data['label'].to_list()]\n",
        "  predictions = [data['label_gpt'].to_list()]\n",
        "  print('-----------------------------------------')\n",
        "  print(dataset +' '+ types[prompt_type]+ ': ')\n",
        "  print()\n",
        "  print(classification_report(labels, predictions))\n",
        "  print('-----------------------------------------')\n",
        "  print()"
      ],
      "metadata": {
        "id": "paqR5nirma18"
      },
      "execution_count": null,
      "outputs": []
    },
    {
      "cell_type": "code",
      "source": [
        "datasets = ['NCBI', 'BC2GM', 'JNLPBA', 'BC5CDR-disease', 'BC5CDR-chem']\n",
        "prompt_types = ['Z', 'O', 'F']\n",
        "for dataset in datasets:\n",
        "  for prompt_type in prompt_types:\n",
        "    get_partial_report(dataset, prompt_type)"
      ],
      "metadata": {
        "colab": {
          "base_uri": "https://localhost:8080/"
        },
        "id": "HXyaFNo-Tkr7",
        "outputId": "b9663538-ed20-4d37-a480-c8fb8a91e9c3"
      },
      "execution_count": null,
      "outputs": [
        {
          "output_type": "stream",
          "name": "stdout",
          "text": [
            "-----------------------------------------\n",
            "NCBI Zero Shot: \n",
            "\n",
            "              precision    recall  f1-score   support\n",
            "\n",
            "           _       0.37      0.76      0.49       787\n",
            "\n",
            "   micro avg       0.37      0.76      0.49       787\n",
            "   macro avg       0.37      0.76      0.49       787\n",
            "weighted avg       0.37      0.76      0.49       787\n",
            "\n",
            "-----------------------------------------\n",
            "\n",
            "-----------------------------------------\n",
            "NCBI One Shot: \n",
            "\n",
            "              precision    recall  f1-score   support\n",
            "\n",
            "           _       0.37      0.89      0.52       787\n",
            "\n",
            "   micro avg       0.37      0.89      0.52       787\n",
            "   macro avg       0.37      0.89      0.52       787\n",
            "weighted avg       0.37      0.89      0.52       787\n",
            "\n",
            "-----------------------------------------\n",
            "\n",
            "-----------------------------------------\n",
            "NCBI Few Shot: \n",
            "\n",
            "              precision    recall  f1-score   support\n",
            "\n",
            "           _       0.41      0.65      0.50       787\n",
            "\n",
            "   micro avg       0.41      0.65      0.50       787\n",
            "   macro avg       0.41      0.65      0.50       787\n",
            "weighted avg       0.41      0.65      0.50       787\n",
            "\n",
            "-----------------------------------------\n",
            "\n",
            "-----------------------------------------\n",
            "BC2GM Zero Shot: \n",
            "\n",
            "              precision    recall  f1-score   support\n",
            "\n",
            "           _       0.59      0.77      0.67      3034\n",
            "\n",
            "   micro avg       0.59      0.77      0.67      3034\n",
            "   macro avg       0.59      0.77      0.67      3034\n",
            "weighted avg       0.59      0.77      0.67      3034\n",
            "\n",
            "-----------------------------------------\n",
            "\n",
            "-----------------------------------------\n",
            "BC2GM One Shot: \n",
            "\n",
            "              precision    recall  f1-score   support\n",
            "\n",
            "           _       0.60      0.76      0.67      3059\n",
            "\n",
            "   micro avg       0.60      0.76      0.67      3059\n",
            "   macro avg       0.60      0.76      0.67      3059\n",
            "weighted avg       0.60      0.76      0.67      3059\n",
            "\n",
            "-----------------------------------------\n",
            "\n",
            "-----------------------------------------\n",
            "BC2GM Few Shot: \n",
            "\n",
            "              precision    recall  f1-score   support\n",
            "\n",
            "           _       0.65      0.74      0.69      3052\n",
            "\n",
            "   micro avg       0.65      0.74      0.69      3052\n",
            "   macro avg       0.65      0.74      0.69      3052\n",
            "weighted avg       0.65      0.74      0.69      3052\n",
            "\n",
            "-----------------------------------------\n",
            "\n",
            "-----------------------------------------\n",
            "JNLPBA Zero Shot: \n",
            "\n",
            "              precision    recall  f1-score   support\n",
            "\n",
            "           _       0.57      0.77      0.65      8565\n",
            "\n",
            "   micro avg       0.57      0.77      0.65      8565\n",
            "   macro avg       0.57      0.77      0.65      8565\n",
            "weighted avg       0.57      0.77      0.65      8565\n",
            "\n",
            "-----------------------------------------\n",
            "\n",
            "-----------------------------------------\n",
            "JNLPBA One Shot: \n",
            "\n",
            "              precision    recall  f1-score   support\n",
            "\n",
            "           _       0.59      0.74      0.65      8549\n",
            "\n",
            "   micro avg       0.59      0.74      0.65      8549\n",
            "   macro avg       0.59      0.74      0.65      8549\n",
            "weighted avg       0.59      0.74      0.65      8549\n",
            "\n",
            "-----------------------------------------\n",
            "\n",
            "-----------------------------------------\n",
            "JNLPBA Few Shot: \n",
            "\n",
            "              precision    recall  f1-score   support\n",
            "\n",
            "           _       0.66      0.57      0.61      8553\n",
            "\n",
            "   micro avg       0.66      0.57      0.61      8553\n",
            "   macro avg       0.66      0.57      0.61      8553\n",
            "weighted avg       0.66      0.57      0.61      8553\n",
            "\n",
            "-----------------------------------------\n",
            "\n",
            "-----------------------------------------\n",
            "BC5CDR-disease Zero Shot: \n",
            "\n",
            "              precision    recall  f1-score   support\n",
            "\n",
            "           _       0.40      0.76      0.52      4238\n",
            "\n",
            "   micro avg       0.40      0.76      0.52      4238\n",
            "   macro avg       0.40      0.76      0.52      4238\n",
            "weighted avg       0.40      0.76      0.52      4238\n",
            "\n",
            "-----------------------------------------\n",
            "\n",
            "-----------------------------------------\n",
            "BC5CDR-disease One Shot: \n",
            "\n",
            "              precision    recall  f1-score   support\n",
            "\n",
            "           _       0.41      0.70      0.52      4238\n",
            "\n",
            "   micro avg       0.41      0.70      0.52      4238\n",
            "   macro avg       0.41      0.70      0.52      4238\n",
            "weighted avg       0.41      0.70      0.52      4238\n",
            "\n",
            "-----------------------------------------\n",
            "\n",
            "-----------------------------------------\n",
            "BC5CDR-disease Few Shot: \n",
            "\n",
            "              precision    recall  f1-score   support\n",
            "\n",
            "           _       0.26      0.29      0.27      5328\n",
            "\n",
            "   micro avg       0.26      0.29      0.27      5328\n",
            "   macro avg       0.26      0.29      0.27      5328\n",
            "weighted avg       0.26      0.29      0.27      5328\n",
            "\n",
            "-----------------------------------------\n",
            "\n",
            "-----------------------------------------\n",
            "BC5CDR-chem Zero Shot: \n",
            "\n",
            "              precision    recall  f1-score   support\n",
            "\n",
            "           _       0.60      0.90      0.72      5292\n",
            "\n",
            "   micro avg       0.60      0.90      0.72      5292\n",
            "   macro avg       0.60      0.90      0.72      5292\n",
            "weighted avg       0.60      0.90      0.72      5292\n",
            "\n",
            "-----------------------------------------\n",
            "\n",
            "-----------------------------------------\n",
            "BC5CDR-chem One Shot: \n",
            "\n",
            "              precision    recall  f1-score   support\n",
            "\n",
            "           _       0.56      0.94      0.70      5330\n",
            "\n",
            "   micro avg       0.56      0.94      0.70      5330\n",
            "   macro avg       0.56      0.94      0.70      5330\n",
            "weighted avg       0.56      0.94      0.70      5330\n",
            "\n",
            "-----------------------------------------\n",
            "\n",
            "-----------------------------------------\n",
            "BC5CDR-chem Few Shot: \n",
            "\n",
            "              precision    recall  f1-score   support\n",
            "\n",
            "           _       0.54      0.78      0.64      5334\n",
            "\n",
            "   micro avg       0.54      0.78      0.64      5334\n",
            "   macro avg       0.54      0.78      0.64      5334\n",
            "weighted avg       0.54      0.78      0.64      5334\n",
            "\n",
            "-----------------------------------------\n",
            "\n"
          ]
        }
      ]
    }
  ]
}