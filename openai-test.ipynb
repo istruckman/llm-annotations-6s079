{
 "cells": [
  {
   "cell_type": "code",
   "execution_count": 7,
   "metadata": {},
   "outputs": [],
   "source": [
    "# !pip install --upgrade openai"
   ]
  },
  {
   "cell_type": "code",
   "execution_count": 1,
   "metadata": {},
   "outputs": [],
   "source": [
    "import os\n",
    "import openai"
   ]
  },
  {
   "cell_type": "code",
   "execution_count": 3,
   "metadata": {},
   "outputs": [],
   "source": [
    "api_key = os.getenv(\"OPENAI_API_KEY\")\n",
    "if api_key is None:\n",
    "    raise ValueError(\"Please set the OPENAI_API_KEY environment variable.\")\n"
   ]
  },
  {
   "cell_type": "code",
   "execution_count": 5,
   "metadata": {},
   "outputs": [],
   "source": [
    "client = openai.OpenAI(api_key=api_key)"
   ]
  },
  {
   "cell_type": "code",
   "execution_count": 14,
   "metadata": {},
   "outputs": [
    {
     "data": {
      "text/plain": [
       "ChatCompletion(id='chatcmpl-8JNtMsXy1akADI1Dy8ADTgO3u2s9d', choices=[Choice(finish_reason='stop', index=0, message=ChatCompletionMessage(content=\"In realms of code, where logic finds its home,\\nThere lies a concept with a depth unknown.\\nRecursion, graceful dance of looping art,\\nA tale of elegance that sets minds apart.\\n\\nThrough mazes complex, where paths intertwine,\\nRecursion whispers a secret, quite divine.\\nTo unravel problems of intricate kind,\\nWe must surrender to its rhythmic bind.\\n\\nImagine a function, its duty defined,\\nYet within its depths, a familiar sign:\\nA call to itself, a moment of grace,\\nUnleashing power, a recursive embrace.\\n\\nLike echoes bouncing in a vast canyon's might,\\nRecursion echoes, layers taking flight.\\nA whispered voice repeats its tender plea,\\nAs new dimensions of existence we see.\\n\\nWith humble steps, the code begins to roam,\\nDown trails of self-discovery, the unknown.\\nThrough nested loops, it ventures deeper still,\\nPeeling layers, as if truth to distill.\\n\\nBut listen closely, for a caution persists,\\nRecursion, a two-edged sword it truly is.\\nWithout a way to break the endless loop,\\nInfinity looms, a programmer's dupe.\\n\\nYet fear not, for base cases shall pave the way,\\nTo halt the delicate dance, before astray.\\nWhen a condition reached renders us content,\\nThe recursive steps to a close, they relent.\\n\\nIn fractal patterns, recursion does unfold,\\nCreating elegance, stories yet untold.\\nFrom the Fibonacci's golden spiral's grace,\\nTo tree-like structures, branching into space.\\n\\nRecursion, a symphony that programmers play,\\nTo solve complexities that come their way.\\nWith careful artistry, they wield its might,\\nCreating wonder in their digital flight.\\n\\nSo let us honor this concept profound,\\nWith every loop and subroutine spellbound.\\nFor recursion, a poetic dance, it seems,\\nA masterpiece weaving through our code dreams.\", role='assistant', function_call=None, tool_calls=None))], created=1699630764, model='gpt-3.5-turbo-0613', object='chat.completion', system_fingerprint=None, usage=CompletionUsage(completion_tokens=367, prompt_tokens=39, total_tokens=406))"
      ]
     },
     "execution_count": 14,
     "metadata": {},
     "output_type": "execute_result"
    }
   ],
   "source": [
    "\n",
    "completion = client.chat.completions.create(\n",
    "  model=\"gpt-3.5-turbo\",\n",
    "  messages=[\n",
    "    {\"role\": \"system\", \"content\": \"You are a poetic assistant, skilled in explaining complex programming concepts with creative flair.\"},\n",
    "    {\"role\": \"user\", \"content\": \"Compose a poem that explains the concept of recursion in programming.\"}\n",
    "  ]\n",
    ")\n"
   ]
  },
  {
   "cell_type": "code",
   "execution_count": 32,
   "metadata": {},
   "outputs": [
    {
     "name": "stdout",
     "output_type": "stream",
     "text": [
      "In realms of code, where logic finds its home,\n",
      "There lies a concept with a depth unknown.\n",
      "Recursion, graceful dance of looping art,\n",
      "A tale of elegance that sets minds apart.\n",
      "\n",
      "Through mazes complex, where paths intertwine,\n",
      "Recursion whispers a secret, quite divine.\n",
      "To unravel problems of intricate kind,\n",
      "We must surrender to its rhythmic bind.\n",
      "\n",
      "Imagine a function, its duty defined,\n",
      "Yet within its depths, a familiar sign:\n",
      "A call to itself, a moment of grace,\n",
      "Unleashing power, a recursive embrace.\n",
      "\n",
      "Like echoes bouncing in a vast canyon's might,\n",
      "Recursion echoes, layers taking flight.\n",
      "A whispered voice repeats its tender plea,\n",
      "As new dimensions of existence we see.\n",
      "\n",
      "With humble steps, the code begins to roam,\n",
      "Down trails of self-discovery, the unknown.\n",
      "Through nested loops, it ventures deeper still,\n",
      "Peeling layers, as if truth to distill.\n",
      "\n",
      "But listen closely, for a caution persists,\n",
      "Recursion, a two-edged sword it truly is.\n",
      "Without a way to break the endless loop,\n",
      "Infinity looms, a programmer's dupe.\n",
      "\n",
      "Yet fear not, for base cases shall pave the way,\n",
      "To halt the delicate dance, before astray.\n",
      "When a condition reached renders us content,\n",
      "The recursive steps to a close, they relent.\n",
      "\n",
      "In fractal patterns, recursion does unfold,\n",
      "Creating elegance, stories yet untold.\n",
      "From the Fibonacci's golden spiral's grace,\n",
      "To tree-like structures, branching into space.\n",
      "\n",
      "Recursion, a symphony that programmers play,\n",
      "To solve complexities that come their way.\n",
      "With careful artistry, they wield its might,\n",
      "Creating wonder in their digital flight.\n",
      "\n",
      "So let us honor this concept profound,\n",
      "With every loop and subroutine spellbound.\n",
      "For recursion, a poetic dance, it seems,\n",
      "A masterpiece weaving through our code dreams.\n"
     ]
    }
   ],
   "source": [
    "print(completion.choices[0].message.content)"
   ]
  },
  {
   "cell_type": "code",
   "execution_count": null,
   "metadata": {},
   "outputs": [],
   "source": []
  }
 ],
 "metadata": {
  "kernelspec": {
   "display_name": "base",
   "language": "python",
   "name": "python3"
  },
  "language_info": {
   "codemirror_mode": {
    "name": "ipython",
    "version": 3
   },
   "file_extension": ".py",
   "mimetype": "text/x-python",
   "name": "python",
   "nbconvert_exporter": "python",
   "pygments_lexer": "ipython3",
   "version": "3.7.6"
  }
 },
 "nbformat": 4,
 "nbformat_minor": 2
}
